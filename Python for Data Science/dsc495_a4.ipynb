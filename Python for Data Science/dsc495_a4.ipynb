{
 "cells": [
  {
   "cell_type": "markdown",
   "metadata": {},
   "source": [
    "# Assignment #4\n",
    "\n",
    "In this assignment we explore loading data and getting basic information from it. You may choose to complete this assignment in either _R_ or _Python_. Please designate your choice in the first box. \n",
    "\n",
    "__Make sure your kernel is selected for the language you choose.__\n",
    "\n",
    "We will be using the county demographics data set on the server at _/shared/dsc495/county_demographics.csv_. \n",
    "\n",
    "You must complete the entire assignment in **1** language. \n"
   ]
  },
  {
   "cell_type": "markdown",
   "metadata": {},
   "source": [
    "**Programming language:** "
   ]
  },
  {
   "cell_type": "code",
   "execution_count": 42,
   "metadata": {},
   "outputs": [],
   "source": [
    "# import statments or library packages\n",
    "import pandas as pd\n",
    "import statistics as st\n",
    "df = pd.read_csv(\"/shared/dsc495/county_demographics.csv\")"
   ]
  },
  {
   "cell_type": "markdown",
   "metadata": {},
   "source": [
    "***\n",
    "# Section 1: Review\n",
    "\n",
    "## Q1: Using knowledge from the class, describe the size and shape of the data\n",
    "\n",
    "Provide your code in the first box, and a short description in the second. "
   ]
  },
  {
   "cell_type": "code",
   "execution_count": 2,
   "metadata": {},
   "outputs": [
    {
     "data": {
      "text/html": [
       "<div>\n",
       "<style scoped>\n",
       "    .dataframe tbody tr th:only-of-type {\n",
       "        vertical-align: middle;\n",
       "    }\n",
       "\n",
       "    .dataframe tbody tr th {\n",
       "        vertical-align: top;\n",
       "    }\n",
       "\n",
       "    .dataframe thead th {\n",
       "        text-align: right;\n",
       "    }\n",
       "</style>\n",
       "<table border=\"1\" class=\"dataframe\">\n",
       "  <thead>\n",
       "    <tr style=\"text-align: right;\">\n",
       "      <th></th>\n",
       "      <th>Age.Percent 65 and Older</th>\n",
       "      <th>Age.Percent Under 18 Years</th>\n",
       "      <th>Age.Percent Under 5 Years</th>\n",
       "      <th>Education.Bachelor's Degree or Higher</th>\n",
       "      <th>Education.High School or Higher</th>\n",
       "      <th>Employment.Nonemployer Establishments</th>\n",
       "      <th>Employment.Private Non-farm Employment</th>\n",
       "      <th>Employment.Private Non-farm Employment Percent Change</th>\n",
       "      <th>Employment.Private Non-farm Establishments</th>\n",
       "      <th>Ethnicities.American Indian and Alaska Native Alone</th>\n",
       "      <th>...</th>\n",
       "      <th>Sales.Merchant Wholesaler Sales</th>\n",
       "      <th>Sales.Retail Sales</th>\n",
       "      <th>Sales.Retail Sales per Capita</th>\n",
       "      <th>Employment.Firms.American Indian-Owned</th>\n",
       "      <th>Employment.Firms.Asian-Owned</th>\n",
       "      <th>Employment.Firms.Black-Owned</th>\n",
       "      <th>Employment.Firms.Hispanic-Owned</th>\n",
       "      <th>Employment.Firms.Native Hawaiian and Other Pacific Islander-Owned</th>\n",
       "      <th>Employment.Firms.Total</th>\n",
       "      <th>Employment.Firms.Women-Owned</th>\n",
       "    </tr>\n",
       "  </thead>\n",
       "  <tbody>\n",
       "    <tr>\n",
       "      <th>count</th>\n",
       "      <td>3143.000000</td>\n",
       "      <td>3143.000000</td>\n",
       "      <td>3143.000000</td>\n",
       "      <td>3143.000000</td>\n",
       "      <td>3143.000000</td>\n",
       "      <td>3143.000000</td>\n",
       "      <td>3.143000e+03</td>\n",
       "      <td>3143.000000</td>\n",
       "      <td>3143.000000</td>\n",
       "      <td>3143.000000</td>\n",
       "      <td>...</td>\n",
       "      <td>3.143000e+03</td>\n",
       "      <td>3.143000e+03</td>\n",
       "      <td>3143.000000</td>\n",
       "      <td>3143.000000</td>\n",
       "      <td>3143.000000</td>\n",
       "      <td>3143.000000</td>\n",
       "      <td>3143.000000</td>\n",
       "      <td>3143.000000</td>\n",
       "      <td>3.143000e+03</td>\n",
       "      <td>3143.000000</td>\n",
       "    </tr>\n",
       "    <tr>\n",
       "      <th>mean</th>\n",
       "      <td>17.570379</td>\n",
       "      <td>22.539325</td>\n",
       "      <td>5.895291</td>\n",
       "      <td>19.762329</td>\n",
       "      <td>84.553548</td>\n",
       "      <td>7319.628381</td>\n",
       "      <td>3.663908e+04</td>\n",
       "      <td>0.672542</td>\n",
       "      <td>2376.880687</td>\n",
       "      <td>2.249061</td>\n",
       "      <td>...</td>\n",
       "      <td>1.210794e+04</td>\n",
       "      <td>1.245353e+04</td>\n",
       "      <td>10236.157175</td>\n",
       "      <td>0.590169</td>\n",
       "      <td>0.800223</td>\n",
       "      <td>2.392969</td>\n",
       "      <td>1.690232</td>\n",
       "      <td>0.015972</td>\n",
       "      <td>8.780569e+03</td>\n",
       "      <td>17.950652</td>\n",
       "    </tr>\n",
       "    <tr>\n",
       "      <th>std</th>\n",
       "      <td>4.450029</td>\n",
       "      <td>3.436701</td>\n",
       "      <td>1.218243</td>\n",
       "      <td>8.827307</td>\n",
       "      <td>6.911545</td>\n",
       "      <td>28184.062518</td>\n",
       "      <td>1.354002e+05</td>\n",
       "      <td>5.915687</td>\n",
       "      <td>8173.244966</td>\n",
       "      <td>7.598386</td>\n",
       "      <td>...</td>\n",
       "      <td>7.297391e+04</td>\n",
       "      <td>4.136397e+04</td>\n",
       "      <td>5434.069482</td>\n",
       "      <td>3.813300</td>\n",
       "      <td>2.541715</td>\n",
       "      <td>6.885058</td>\n",
       "      <td>6.225769</td>\n",
       "      <td>0.348690</td>\n",
       "      <td>3.155006e+04</td>\n",
       "      <td>12.852328</td>\n",
       "    </tr>\n",
       "    <tr>\n",
       "      <th>min</th>\n",
       "      <td>0.000000</td>\n",
       "      <td>0.000000</td>\n",
       "      <td>0.000000</td>\n",
       "      <td>3.200000</td>\n",
       "      <td>45.000000</td>\n",
       "      <td>0.000000</td>\n",
       "      <td>0.000000e+00</td>\n",
       "      <td>-71.500000</td>\n",
       "      <td>0.000000</td>\n",
       "      <td>0.000000</td>\n",
       "      <td>...</td>\n",
       "      <td>0.000000e+00</td>\n",
       "      <td>0.000000e+00</td>\n",
       "      <td>0.000000</td>\n",
       "      <td>0.000000</td>\n",
       "      <td>0.000000</td>\n",
       "      <td>0.000000</td>\n",
       "      <td>0.000000</td>\n",
       "      <td>0.000000</td>\n",
       "      <td>0.000000e+00</td>\n",
       "      <td>0.000000</td>\n",
       "    </tr>\n",
       "    <tr>\n",
       "      <th>25%</th>\n",
       "      <td>14.800000</td>\n",
       "      <td>20.500000</td>\n",
       "      <td>5.200000</td>\n",
       "      <td>13.700000</td>\n",
       "      <td>80.200000</td>\n",
       "      <td>736.000000</td>\n",
       "      <td>2.108000e+03</td>\n",
       "      <td>-1.800000</td>\n",
       "      <td>221.000000</td>\n",
       "      <td>0.300000</td>\n",
       "      <td>...</td>\n",
       "      <td>0.000000e+00</td>\n",
       "      <td>7.595000e+02</td>\n",
       "      <td>6852.500000</td>\n",
       "      <td>0.000000</td>\n",
       "      <td>0.000000</td>\n",
       "      <td>0.000000</td>\n",
       "      <td>0.000000</td>\n",
       "      <td>0.000000</td>\n",
       "      <td>9.025000e+02</td>\n",
       "      <td>0.000000</td>\n",
       "    </tr>\n",
       "    <tr>\n",
       "      <th>50%</th>\n",
       "      <td>17.300000</td>\n",
       "      <td>22.500000</td>\n",
       "      <td>5.800000</td>\n",
       "      <td>17.600000</td>\n",
       "      <td>85.900000</td>\n",
       "      <td>1636.000000</td>\n",
       "      <td>6.340000e+03</td>\n",
       "      <td>0.700000</td>\n",
       "      <td>539.000000</td>\n",
       "      <td>0.600000</td>\n",
       "      <td>...</td>\n",
       "      <td>4.420000e+02</td>\n",
       "      <td>2.471000e+03</td>\n",
       "      <td>9728.000000</td>\n",
       "      <td>0.000000</td>\n",
       "      <td>0.000000</td>\n",
       "      <td>0.000000</td>\n",
       "      <td>0.000000</td>\n",
       "      <td>0.000000</td>\n",
       "      <td>2.155000e+03</td>\n",
       "      <td>23.200000</td>\n",
       "    </tr>\n",
       "    <tr>\n",
       "      <th>75%</th>\n",
       "      <td>19.900000</td>\n",
       "      <td>24.200000</td>\n",
       "      <td>6.500000</td>\n",
       "      <td>23.500000</td>\n",
       "      <td>89.800000</td>\n",
       "      <td>4232.000000</td>\n",
       "      <td>1.971800e+04</td>\n",
       "      <td>3.000000</td>\n",
       "      <td>1445.500000</td>\n",
       "      <td>1.250000</td>\n",
       "      <td>...</td>\n",
       "      <td>2.490500e+03</td>\n",
       "      <td>7.662000e+03</td>\n",
       "      <td>12934.000000</td>\n",
       "      <td>0.000000</td>\n",
       "      <td>0.000000</td>\n",
       "      <td>0.000000</td>\n",
       "      <td>0.000000</td>\n",
       "      <td>0.000000</td>\n",
       "      <td>5.641500e+03</td>\n",
       "      <td>27.800000</td>\n",
       "    </tr>\n",
       "    <tr>\n",
       "      <th>max</th>\n",
       "      <td>52.900000</td>\n",
       "      <td>42.000000</td>\n",
       "      <td>13.700000</td>\n",
       "      <td>74.400000</td>\n",
       "      <td>99.000000</td>\n",
       "      <td>945941.000000</td>\n",
       "      <td>3.799831e+06</td>\n",
       "      <td>110.800000</td>\n",
       "      <td>253227.000000</td>\n",
       "      <td>92.200000</td>\n",
       "      <td>...</td>\n",
       "      <td>2.054787e+06</td>\n",
       "      <td>1.191118e+06</td>\n",
       "      <td>80800.000000</td>\n",
       "      <td>71.800000</td>\n",
       "      <td>56.600000</td>\n",
       "      <td>66.700000</td>\n",
       "      <td>78.000000</td>\n",
       "      <td>10.500000</td>\n",
       "      <td>1.046940e+06</td>\n",
       "      <td>56.200000</td>\n",
       "    </tr>\n",
       "  </tbody>\n",
       "</table>\n",
       "<p>8 rows × 50 columns</p>\n",
       "</div>"
      ],
      "text/plain": [
       "       Age.Percent 65 and Older  Age.Percent Under 18 Years  \\\n",
       "count               3143.000000                 3143.000000   \n",
       "mean                  17.570379                   22.539325   \n",
       "std                    4.450029                    3.436701   \n",
       "min                    0.000000                    0.000000   \n",
       "25%                   14.800000                   20.500000   \n",
       "50%                   17.300000                   22.500000   \n",
       "75%                   19.900000                   24.200000   \n",
       "max                   52.900000                   42.000000   \n",
       "\n",
       "       Age.Percent Under 5 Years  Education.Bachelor's Degree or Higher  \\\n",
       "count                3143.000000                            3143.000000   \n",
       "mean                    5.895291                              19.762329   \n",
       "std                     1.218243                               8.827307   \n",
       "min                     0.000000                               3.200000   \n",
       "25%                     5.200000                              13.700000   \n",
       "50%                     5.800000                              17.600000   \n",
       "75%                     6.500000                              23.500000   \n",
       "max                    13.700000                              74.400000   \n",
       "\n",
       "       Education.High School or Higher  Employment.Nonemployer Establishments  \\\n",
       "count                      3143.000000                            3143.000000   \n",
       "mean                         84.553548                            7319.628381   \n",
       "std                           6.911545                           28184.062518   \n",
       "min                          45.000000                               0.000000   \n",
       "25%                          80.200000                             736.000000   \n",
       "50%                          85.900000                            1636.000000   \n",
       "75%                          89.800000                            4232.000000   \n",
       "max                          99.000000                          945941.000000   \n",
       "\n",
       "       Employment.Private Non-farm Employment  \\\n",
       "count                            3.143000e+03   \n",
       "mean                             3.663908e+04   \n",
       "std                              1.354002e+05   \n",
       "min                              0.000000e+00   \n",
       "25%                              2.108000e+03   \n",
       "50%                              6.340000e+03   \n",
       "75%                              1.971800e+04   \n",
       "max                              3.799831e+06   \n",
       "\n",
       "       Employment.Private Non-farm Employment Percent Change  \\\n",
       "count                                        3143.000000       \n",
       "mean                                            0.672542       \n",
       "std                                             5.915687       \n",
       "min                                           -71.500000       \n",
       "25%                                            -1.800000       \n",
       "50%                                             0.700000       \n",
       "75%                                             3.000000       \n",
       "max                                           110.800000       \n",
       "\n",
       "       Employment.Private Non-farm Establishments  \\\n",
       "count                                 3143.000000   \n",
       "mean                                  2376.880687   \n",
       "std                                   8173.244966   \n",
       "min                                      0.000000   \n",
       "25%                                    221.000000   \n",
       "50%                                    539.000000   \n",
       "75%                                   1445.500000   \n",
       "max                                 253227.000000   \n",
       "\n",
       "       Ethnicities.American Indian and Alaska Native Alone  ...  \\\n",
       "count                                        3143.000000    ...   \n",
       "mean                                            2.249061    ...   \n",
       "std                                             7.598386    ...   \n",
       "min                                             0.000000    ...   \n",
       "25%                                             0.300000    ...   \n",
       "50%                                             0.600000    ...   \n",
       "75%                                             1.250000    ...   \n",
       "max                                            92.200000    ...   \n",
       "\n",
       "       Sales.Merchant Wholesaler Sales  Sales.Retail Sales  \\\n",
       "count                     3.143000e+03        3.143000e+03   \n",
       "mean                      1.210794e+04        1.245353e+04   \n",
       "std                       7.297391e+04        4.136397e+04   \n",
       "min                       0.000000e+00        0.000000e+00   \n",
       "25%                       0.000000e+00        7.595000e+02   \n",
       "50%                       4.420000e+02        2.471000e+03   \n",
       "75%                       2.490500e+03        7.662000e+03   \n",
       "max                       2.054787e+06        1.191118e+06   \n",
       "\n",
       "       Sales.Retail Sales per Capita  Employment.Firms.American Indian-Owned  \\\n",
       "count                    3143.000000                             3143.000000   \n",
       "mean                    10236.157175                                0.590169   \n",
       "std                      5434.069482                                3.813300   \n",
       "min                         0.000000                                0.000000   \n",
       "25%                      6852.500000                                0.000000   \n",
       "50%                      9728.000000                                0.000000   \n",
       "75%                     12934.000000                                0.000000   \n",
       "max                     80800.000000                               71.800000   \n",
       "\n",
       "       Employment.Firms.Asian-Owned  Employment.Firms.Black-Owned  \\\n",
       "count                   3143.000000                   3143.000000   \n",
       "mean                       0.800223                      2.392969   \n",
       "std                        2.541715                      6.885058   \n",
       "min                        0.000000                      0.000000   \n",
       "25%                        0.000000                      0.000000   \n",
       "50%                        0.000000                      0.000000   \n",
       "75%                        0.000000                      0.000000   \n",
       "max                       56.600000                     66.700000   \n",
       "\n",
       "       Employment.Firms.Hispanic-Owned  \\\n",
       "count                      3143.000000   \n",
       "mean                          1.690232   \n",
       "std                           6.225769   \n",
       "min                           0.000000   \n",
       "25%                           0.000000   \n",
       "50%                           0.000000   \n",
       "75%                           0.000000   \n",
       "max                          78.000000   \n",
       "\n",
       "       Employment.Firms.Native Hawaiian and Other Pacific Islander-Owned  \\\n",
       "count                                        3143.000000                   \n",
       "mean                                            0.015972                   \n",
       "std                                             0.348690                   \n",
       "min                                             0.000000                   \n",
       "25%                                             0.000000                   \n",
       "50%                                             0.000000                   \n",
       "75%                                             0.000000                   \n",
       "max                                            10.500000                   \n",
       "\n",
       "       Employment.Firms.Total  Employment.Firms.Women-Owned  \n",
       "count            3.143000e+03                   3143.000000  \n",
       "mean             8.780569e+03                     17.950652  \n",
       "std              3.155006e+04                     12.852328  \n",
       "min              0.000000e+00                      0.000000  \n",
       "25%              9.025000e+02                      0.000000  \n",
       "50%              2.155000e+03                     23.200000  \n",
       "75%              5.641500e+03                     27.800000  \n",
       "max              1.046940e+06                     56.200000  \n",
       "\n",
       "[8 rows x 50 columns]"
      ]
     },
     "execution_count": 2,
     "metadata": {},
     "output_type": "execute_result"
    }
   ],
   "source": [
    "df.describe()"
   ]
  },
  {
   "cell_type": "markdown",
   "metadata": {},
   "source": [
    "**Description:**"
   ]
  },
  {
   "cell_type": "markdown",
   "metadata": {},
   "source": [
    "## Q2: Filter the data to only rows from NC. Save this as a new data frame"
   ]
  },
  {
   "cell_type": "code",
   "execution_count": 4,
   "metadata": {},
   "outputs": [],
   "source": [
    "dfnc=df[df['State']==\"NC\"]"
   ]
  },
  {
   "cell_type": "markdown",
   "metadata": {},
   "source": [
    "For this next question you will need the column `Education Bachelor's Degree or Higher`. You may find it beneficial to index by the column number rather than name for this question. We can do this using `.iloc`. \n",
    "\n",
    "For example, to get the 3rd row and 4th column of a data frame, df, we would use\n",
    " \n",
    "`df.iloc[3,4]`. \n",
    "\n",
    "If we want to get all rows, or all columns, we can use colons `:` such as\n",
    "\n",
    "`df.iloc[3,:]`\n",
    "\n",
    "which will return the third row. \n",
    "\n",
    "## Q3: In NC, find the county with the highest percentage of individuals with a bachelor's. Find the couty with the lowest percentage of individuals with a bachelor's. "
   ]
  },
  {
   "cell_type": "code",
   "execution_count": 52,
   "metadata": {},
   "outputs": [
    {
     "name": "stdout",
     "output_type": "stream",
     "text": [
      "             County  Education.Bachelor's Degree or Higher\n",
      "1957  Orange County                                   55.8\n",
      "              County  Education.Bachelor's Degree or Higher\n",
      "1978  Tyrrell County                                    8.4\n"
     ]
    }
   ],
   "source": [
    "dfnce = dfnc[[\"County\",\"Education.Bachelor's Degree or Higher\"]]\n",
    "\n",
    "dfnce.iloc[:,1].nlargest(1)\n",
    "print (dfnce[dfnce[\"Education.Bachelor's Degree or Higher\"]== 55.8])\n",
    "dfnce.iloc[:,1].nsmallest(1)\n",
    "print(dfnce[dfnce[\"Education.Bachelor's Degree or Higher\"]== 8.4])\n",
    "\n"
   ]
  },
  {
   "cell_type": "markdown",
   "metadata": {},
   "source": [
    "## Q4: How many counties in NC have a percentage of individuals with a bachelor's degree or higher above the national median?"
   ]
  },
  {
   "cell_type": "code",
   "execution_count": 16,
   "metadata": {},
   "outputs": [
    {
     "name": "stdout",
     "output_type": "stream",
     "text": [
      "36\n"
     ]
    }
   ],
   "source": [
    "print(len(dfnce[dfnce[\"Education.Bachelor's Degree or Higher\"]>= 19.762329]))"
   ]
  },
  {
   "cell_type": "markdown",
   "metadata": {},
   "source": [
    "## Q4: What percentage of counties in NC have a percentage of individuals with a bachelor's degree or higher above the national median?"
   ]
  },
  {
   "cell_type": "code",
   "execution_count": 25,
   "metadata": {},
   "outputs": [
    {
     "name": "stdout",
     "output_type": "stream",
     "text": [
      "36.0 %\n"
     ]
    }
   ],
   "source": [
    "number = len(dfnce[dfnce[\"Education.Bachelor's Degree or Higher\"]>= 19.762329])/len(dfnce)\n",
    "print (number*100,'%')"
   ]
  },
  {
   "cell_type": "markdown",
   "metadata": {},
   "source": [
    "***\n",
    "\n",
    "# Section 2 - Outliers:\n",
    "\n",
    "All questions are based on `Education Bachelor's Degree or Higher`. \n",
    "\n",
    "In this section we will find outliers using two different methods. The first will use the IQR; the second will use z-scores. \n",
    "\n",
    "Recall: \n",
    "\n",
    "An observation may be an outlier if the observation falls below $Q1 - 1.5 \\times IQR$ or above $Q3 + 1.5 \\times IQR$\n",
    "where the IQR is $Q3 - Q1$. "
   ]
  },
  {
   "cell_type": "markdown",
   "metadata": {},
   "source": [
    "## Q1: Find the first and third quartile of the column `Education Bachelor's Degree or Higher` across the entire US. "
   ]
  },
  {
   "cell_type": "code",
   "execution_count": 35,
   "metadata": {},
   "outputs": [
    {
     "name": "stdout",
     "output_type": "stream",
     "text": [
      "Q1: 13.325 Q3: 34.8875\n"
     ]
    }
   ],
   "source": [
    "dfnce.quantile([.25,.75])\n",
    "q3=21.95\n",
    "q1=13.325\n",
    "iqr=q3-q1\n",
    "print(\"Q1:\",q1,\"Q3:\",q3)"
   ]
  },
  {
   "cell_type": "markdown",
   "metadata": {},
   "source": [
    "## Q2: Calculate the cutoffs for outliers using the IQR formula. "
   ]
  },
  {
   "cell_type": "code",
   "execution_count": 36,
   "metadata": {},
   "outputs": [
    {
     "name": "stdout",
     "output_type": "stream",
     "text": [
      "0.3874999999999993 and 34.8875\n"
     ]
    }
   ],
   "source": [
    "print(q1-1.5*iqr, \"and\", q3+1.5*iqr)"
   ]
  },
  {
   "cell_type": "markdown",
   "metadata": {},
   "source": [
    "## Q3. Find the number of outliers based on the IQR formula."
   ]
  },
  {
   "cell_type": "code",
   "execution_count": 41,
   "metadata": {},
   "outputs": [
    {
     "data": {
      "text/plain": [
       "7"
      ]
     },
     "execution_count": 41,
     "metadata": {},
     "output_type": "execute_result"
    }
   ],
   "source": [
    "len(dfnce[dfnce[\"Education.Bachelor's Degree or Higher\"]>= 34.8875]) + len(dfnce[dfnce[\"Education.Bachelor's Degree or Higher\"]<= .3874])"
   ]
  },
  {
   "cell_type": "markdown",
   "metadata": {},
   "source": [
    "## Q4: Find the mean and standard deviation. "
   ]
  },
  {
   "cell_type": "code",
   "execution_count": 54,
   "metadata": {},
   "outputs": [
    {
     "name": "stdout",
     "output_type": "stream",
     "text": [
      "Mean: 19.637999999999998\n",
      "SDev: 8.842114331910997\n"
     ]
    }
   ],
   "source": [
    "print( \"Mean:\", dfnce.iloc[:,1].mean())\n",
    "print( \"SDev:\", st.stdev(dfnce[\"Education.Bachelor's Degree or Higher\"]))"
   ]
  },
  {
   "cell_type": "markdown",
   "metadata": {},
   "source": [
    "## Q5: Calculate the z-scores for all of the counties. "
   ]
  },
  {
   "cell_type": "code",
   "execution_count": 48,
   "metadata": {},
   "outputs": [
    {
     "data": {
      "text/html": [
       "<div>\n",
       "<style scoped>\n",
       "    .dataframe tbody tr th:only-of-type {\n",
       "        vertical-align: middle;\n",
       "    }\n",
       "\n",
       "    .dataframe tbody tr th {\n",
       "        vertical-align: top;\n",
       "    }\n",
       "\n",
       "    .dataframe thead th {\n",
       "        text-align: right;\n",
       "    }\n",
       "</style>\n",
       "<table border=\"1\" class=\"dataframe\">\n",
       "  <thead>\n",
       "    <tr style=\"text-align: right;\">\n",
       "      <th></th>\n",
       "      <th>Education.Bachelor's Degree or Higher</th>\n",
       "    </tr>\n",
       "  </thead>\n",
       "  <tbody>\n",
       "    <tr>\n",
       "      <th>count</th>\n",
       "      <td>100.000000</td>\n",
       "    </tr>\n",
       "    <tr>\n",
       "      <th>mean</th>\n",
       "      <td>19.638000</td>\n",
       "    </tr>\n",
       "    <tr>\n",
       "      <th>std</th>\n",
       "      <td>8.842114</td>\n",
       "    </tr>\n",
       "    <tr>\n",
       "      <th>min</th>\n",
       "      <td>8.400000</td>\n",
       "    </tr>\n",
       "    <tr>\n",
       "      <th>25%</th>\n",
       "      <td>13.325000</td>\n",
       "    </tr>\n",
       "    <tr>\n",
       "      <th>50%</th>\n",
       "      <td>17.900000</td>\n",
       "    </tr>\n",
       "    <tr>\n",
       "      <th>75%</th>\n",
       "      <td>21.950000</td>\n",
       "    </tr>\n",
       "    <tr>\n",
       "      <th>max</th>\n",
       "      <td>55.800000</td>\n",
       "    </tr>\n",
       "  </tbody>\n",
       "</table>\n",
       "</div>"
      ],
      "text/plain": [
       "       Education.Bachelor's Degree or Higher\n",
       "count                             100.000000\n",
       "mean                               19.638000\n",
       "std                                 8.842114\n",
       "min                                 8.400000\n",
       "25%                                13.325000\n",
       "50%                                17.900000\n",
       "75%                                21.950000\n",
       "max                                55.800000"
      ]
     },
     "execution_count": 48,
     "metadata": {},
     "output_type": "execute_result"
    }
   ],
   "source": [
    "dfnce.describe()"
   ]
  },
  {
   "cell_type": "markdown",
   "metadata": {},
   "source": [
    "## Q6: Verify the z-scores found in Q5 have mean 0 and variance 1. "
   ]
  },
  {
   "cell_type": "code",
   "execution_count": null,
   "metadata": {},
   "outputs": [],
   "source": []
  },
  {
   "cell_type": "markdown",
   "metadata": {},
   "source": [
    "## Q7: Find the number of outliers based on exceeding z-scores of -3 or +3. "
   ]
  },
  {
   "cell_type": "code",
   "execution_count": null,
   "metadata": {},
   "outputs": [],
   "source": []
  },
  {
   "cell_type": "markdown",
   "metadata": {},
   "source": [
    "## Q8: Describe your results about the outlier"
   ]
  },
  {
   "cell_type": "markdown",
   "metadata": {},
   "source": [
    "**Response:**"
   ]
  }
 ],
 "metadata": {
  "kernelspec": {
   "display_name": "DSC495",
   "language": "python",
   "name": "dsc495"
  },
  "language_info": {
   "codemirror_mode": {
    "name": "ipython",
    "version": 3
   },
   "file_extension": ".py",
   "mimetype": "text/x-python",
   "name": "python",
   "nbconvert_exporter": "python",
   "pygments_lexer": "ipython3",
   "version": "3.10.1"
  }
 },
 "nbformat": 4,
 "nbformat_minor": 4
}
