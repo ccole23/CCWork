{
 "cells": [
  {
   "cell_type": "code",
   "execution_count": null,
   "metadata": {},
   "outputs": [],
   "source": []
  },
  {
   "cell_type": "code",
   "execution_count": 1,
   "metadata": {
    "id": "NPbgFEvjWGW3"
   },
   "outputs": [
    {
     "name": "stdout",
     "output_type": "stream",
     "text": [
      "Question 0: What is your name and preferred pronouns?\n",
      "Chris Cole and He/his/him\n",
      "\n",
      "Question 1: What is your major (and minor(s)), terminal degree, and year?\n",
      "I am a senior in Business Administration with an IT concentration\n",
      "\n",
      "Question 2: What interests you in data science?\n",
      "I like programming and working with numbers. I also find statisics to be interesting.\n",
      "\n",
      "Question 3: What would you like to get out of this class?\n",
      "I want to learn how to use R and python and get a better understanding of what data science is\n",
      "\n",
      "Question 4: Do you have any concerns about this class that you'd like to share?\n",
      "I am concerned that I may struggle to recall or forget what I have learned in my past statistics courses. I also fear that I may not have enough knowledge om data science or analytics. \n",
      "\n",
      "Question 5: What is your prior programming experience?\n",
      "I have programmed some with java and SQL\n",
      "\n",
      "Question 6: What future data science experiences would you like to pursue?\n",
      "I am unsure but I was considering learning about data wrangling and data mining\n",
      "\n",
      "Question 7: If you would like to, share a boring fact about yourself.\n",
      "I was born on July 9th\n"
     ]
    }
   ],
   "source": [
    "\n",
    "print(\"Question 0: What is your name and preferred pronouns?\")\n",
    "print(\"Chris Cole and He/his/him\")\n",
    "\n",
    "print(\"\\nQuestion 1: What is your major (and minor(s)), terminal degree, and year?\")\n",
    "print(\"I am a senior in Business Administration with an IT concentration\")\n",
    "\n",
    "print(\"\\nQuestion 2: What interests you in data science?\")\n",
    "print(\"I like programming and working with numbers. I also find statisics to be interesting.\")\n",
    "\n",
    "print(\"\\nQuestion 3: What would you like to get out of this class?\")\n",
    "print(\"I want to learn how to use R and python and get a better understanding of what data science is\")\n",
    "\n",
    "print(\"\\nQuestion 4: Do you have any concerns about this class that you'd like to share?\")\n",
    "print(\"I am concerned that I may struggle to recall or forget what I have learned in my past statistics courses. I also fear that I may not have enough knowledge om data science or analytics. \")\n",
    "\n",
    "print(\"\\nQuestion 5: What is your prior programming experience?\")\n",
    "print(\"I have programmed some with java and SQL\")\n",
    "\n",
    "print(\"\\nQuestion 6: What future data science experiences would you like to pursue?\")\n",
    "print(\"I am unsure but I was considering learning about data wrangling and data mining\")\n",
    "\n",
    "print(\"\\nQuestion 7: If you would like to, share a boring fact about yourself.\")\n",
    "print(\"I was born on July 9th\")"
   ]
  },
  {
   "cell_type": "code",
   "execution_count": 2,
   "metadata": {},
   "outputs": [],
   "source": [
    "A0 =\"Chris Cole and He/his/him\"\n",
    "A1 =\"I am a senior in Business Administration with an IT concentration\"\n",
    "A2 =\"I like programming and working with numbers. I also find statisics to be interesting.\"\n",
    "A3 =\"I want to learn how to use R and python and get a better understanding of what data science is.\"\n",
    "A4 =\"I am concerned that I may struggle to recall or forget what I have learned in my past statistics courses. I also fear that I may not have enough knowledge om data science or analytics. \"\n",
    "A5 =\"I have programmed some with java and SQL\"\n",
    "A6 =\"I am unsure but I was considering learning about data wrangling and data mining\"\n",
    "A7 =\"I was born on July 9th\"\n",
    "\n",
    "\n",
    "\n",
    "\n"
   ]
  },
  {
   "cell_type": "code",
   "execution_count": 3,
   "metadata": {
    "id": "NPbgFEvjWGW3"
   },
   "outputs": [
    {
     "name": "stdout",
     "output_type": "stream",
     "text": [
      "Question 0: What is your name and preferred pronouns?\n",
      "Chris Cole and He/his/him\n",
      "\n",
      "Question 1: What is your major (and minor(s)), terminal degree, and year?\n",
      "I am a senior in Business Administration with an IT concentration\n",
      "\n",
      "Question 2: What interests you in data science?\n",
      "I like programming and working with numbers. I also find statisics to be interesting.\n",
      "\n",
      "Question 3: What would you like to get out of this class?\n",
      "I want to learn how to use R and python and get a better understanding of what data science is.\n",
      "\n",
      "Question 4: Do you have any concerns about this class that you'd like to share?\n",
      "I am concerned that I may struggle to recall or forget what I have learned in my past statistics courses. I also fear that I may not have enough knowledge om data science or analytics. \n",
      "\n",
      "Question 5: What is your prior programming experience?\n",
      "I have programmed some with java and SQL\n",
      "\n",
      "Question 6: What future data science experiences would you like to pursue?\n",
      "I am unsure but I was considering learning about data wrangling and data mining\n",
      "\n",
      "Question 7: If you would like to, share a boring fact about yourself.\n",
      "I was born on July 9th\n"
     ]
    }
   ],
   "source": [
    "\n",
    "print(\"Question 0: What is your name and preferred pronouns?\")\n",
    "print(A0)\n",
    "\n",
    "print(\"\\nQuestion 1: What is your major (and minor(s)), terminal degree, and year?\")\n",
    "print(A1)\n",
    "\n",
    "print(\"\\nQuestion 2: What interests you in data science?\")\n",
    "print(A2)\n",
    "\n",
    "print(\"\\nQuestion 3: What would you like to get out of this class?\")\n",
    "print(A3)\n",
    "\n",
    "print(\"\\nQuestion 4: Do you have any concerns about this class that you'd like to share?\")\n",
    "print(A4)\n",
    "\n",
    "print(\"\\nQuestion 5: What is your prior programming experience?\")\n",
    "print(A5)\n",
    "\n",
    "print(\"\\nQuestion 6: What future data science experiences would you like to pursue?\")\n",
    "print(A6)\n",
    "\n",
    "print(\"\\nQuestion 7: If you would like to, share a boring fact about yourself.\")\n",
    "print(A7)"
   ]
  },
  {
   "cell_type": "code",
   "execution_count": null,
   "metadata": {},
   "outputs": [],
   "source": []
  }
 ],
 "metadata": {
  "kernelspec": {
   "display_name": "Python 3",
   "language": "python",
   "name": "python3"
  },
  "language_info": {
   "codemirror_mode": {
    "name": "ipython",
    "version": 3
   },
   "file_extension": ".py",
   "mimetype": "text/x-python",
   "name": "python",
   "nbconvert_exporter": "python",
   "pygments_lexer": "ipython3",
   "version": "3.7.9"
  }
 },
 "nbformat": 4,
 "nbformat_minor": 4
}
